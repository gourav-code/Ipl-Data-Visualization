{
 "cells": [
  {
   "cell_type": "code",
   "execution_count": 1,
   "id": "a6e457a3",
   "metadata": {},
   "outputs": [],
   "source": [
    "import dash"
   ]
  },
  {
   "cell_type": "code",
   "execution_count": 2,
   "id": "ae862f20",
   "metadata": {},
   "outputs": [],
   "source": [
    "import pandas as pd"
   ]
  },
  {
   "cell_type": "code",
   "execution_count": 49,
   "id": "438f9aec",
   "metadata": {},
   "outputs": [
    {
     "data": {
      "text/html": [
       "<div>\n",
       "<style scoped>\n",
       "    .dataframe tbody tr th:only-of-type {\n",
       "        vertical-align: middle;\n",
       "    }\n",
       "\n",
       "    .dataframe tbody tr th {\n",
       "        vertical-align: top;\n",
       "    }\n",
       "\n",
       "    .dataframe thead th {\n",
       "        text-align: right;\n",
       "    }\n",
       "</style>\n",
       "<table border=\"1\" class=\"dataframe\">\n",
       "  <thead>\n",
       "    <tr style=\"text-align: right;\">\n",
       "      <th></th>\n",
       "      <th>Unnamed: 0</th>\n",
       "      <th>match_id</th>\n",
       "      <th>inning</th>\n",
       "      <th>batting_team</th>\n",
       "      <th>bowling_team</th>\n",
       "      <th>over</th>\n",
       "      <th>ball</th>\n",
       "      <th>batsman</th>\n",
       "      <th>non_striker</th>\n",
       "      <th>bowler</th>\n",
       "      <th>...</th>\n",
       "      <th>bye_runs</th>\n",
       "      <th>legbye_runs</th>\n",
       "      <th>noball_runs</th>\n",
       "      <th>penalty_runs</th>\n",
       "      <th>batsman_runs</th>\n",
       "      <th>extra_runs</th>\n",
       "      <th>total_runs</th>\n",
       "      <th>player_dismissed</th>\n",
       "      <th>dismissal_kind</th>\n",
       "      <th>fielder</th>\n",
       "    </tr>\n",
       "  </thead>\n",
       "  <tbody>\n",
       "    <tr>\n",
       "      <th>0</th>\n",
       "      <td>13862</td>\n",
       "      <td>60</td>\n",
       "      <td>1</td>\n",
       "      <td>Kolkata Knight Riders</td>\n",
       "      <td>Royal Challengers Bangalore</td>\n",
       "      <td>1</td>\n",
       "      <td>1</td>\n",
       "      <td>SC Ganguly</td>\n",
       "      <td>BB McCullum</td>\n",
       "      <td>P Kumar</td>\n",
       "      <td>...</td>\n",
       "      <td>0</td>\n",
       "      <td>1</td>\n",
       "      <td>0</td>\n",
       "      <td>0</td>\n",
       "      <td>0</td>\n",
       "      <td>1</td>\n",
       "      <td>1</td>\n",
       "      <td>NaN</td>\n",
       "      <td>NaN</td>\n",
       "      <td>NaN</td>\n",
       "    </tr>\n",
       "    <tr>\n",
       "      <th>1</th>\n",
       "      <td>13863</td>\n",
       "      <td>60</td>\n",
       "      <td>1</td>\n",
       "      <td>Kolkata Knight Riders</td>\n",
       "      <td>Royal Challengers Bangalore</td>\n",
       "      <td>1</td>\n",
       "      <td>2</td>\n",
       "      <td>BB McCullum</td>\n",
       "      <td>SC Ganguly</td>\n",
       "      <td>P Kumar</td>\n",
       "      <td>...</td>\n",
       "      <td>0</td>\n",
       "      <td>0</td>\n",
       "      <td>0</td>\n",
       "      <td>0</td>\n",
       "      <td>0</td>\n",
       "      <td>0</td>\n",
       "      <td>0</td>\n",
       "      <td>NaN</td>\n",
       "      <td>NaN</td>\n",
       "      <td>NaN</td>\n",
       "    </tr>\n",
       "    <tr>\n",
       "      <th>2</th>\n",
       "      <td>13864</td>\n",
       "      <td>60</td>\n",
       "      <td>1</td>\n",
       "      <td>Kolkata Knight Riders</td>\n",
       "      <td>Royal Challengers Bangalore</td>\n",
       "      <td>1</td>\n",
       "      <td>3</td>\n",
       "      <td>BB McCullum</td>\n",
       "      <td>SC Ganguly</td>\n",
       "      <td>P Kumar</td>\n",
       "      <td>...</td>\n",
       "      <td>0</td>\n",
       "      <td>0</td>\n",
       "      <td>0</td>\n",
       "      <td>0</td>\n",
       "      <td>0</td>\n",
       "      <td>1</td>\n",
       "      <td>1</td>\n",
       "      <td>NaN</td>\n",
       "      <td>NaN</td>\n",
       "      <td>NaN</td>\n",
       "    </tr>\n",
       "    <tr>\n",
       "      <th>3</th>\n",
       "      <td>13865</td>\n",
       "      <td>60</td>\n",
       "      <td>1</td>\n",
       "      <td>Kolkata Knight Riders</td>\n",
       "      <td>Royal Challengers Bangalore</td>\n",
       "      <td>1</td>\n",
       "      <td>4</td>\n",
       "      <td>BB McCullum</td>\n",
       "      <td>SC Ganguly</td>\n",
       "      <td>P Kumar</td>\n",
       "      <td>...</td>\n",
       "      <td>0</td>\n",
       "      <td>0</td>\n",
       "      <td>0</td>\n",
       "      <td>0</td>\n",
       "      <td>0</td>\n",
       "      <td>0</td>\n",
       "      <td>0</td>\n",
       "      <td>NaN</td>\n",
       "      <td>NaN</td>\n",
       "      <td>NaN</td>\n",
       "    </tr>\n",
       "    <tr>\n",
       "      <th>4</th>\n",
       "      <td>13866</td>\n",
       "      <td>60</td>\n",
       "      <td>1</td>\n",
       "      <td>Kolkata Knight Riders</td>\n",
       "      <td>Royal Challengers Bangalore</td>\n",
       "      <td>1</td>\n",
       "      <td>5</td>\n",
       "      <td>BB McCullum</td>\n",
       "      <td>SC Ganguly</td>\n",
       "      <td>P Kumar</td>\n",
       "      <td>...</td>\n",
       "      <td>0</td>\n",
       "      <td>0</td>\n",
       "      <td>0</td>\n",
       "      <td>0</td>\n",
       "      <td>0</td>\n",
       "      <td>0</td>\n",
       "      <td>0</td>\n",
       "      <td>NaN</td>\n",
       "      <td>NaN</td>\n",
       "      <td>NaN</td>\n",
       "    </tr>\n",
       "  </tbody>\n",
       "</table>\n",
       "<p>5 rows × 22 columns</p>\n",
       "</div>"
      ],
      "text/plain": [
       "   Unnamed: 0  match_id  inning           batting_team  \\\n",
       "0       13862        60       1  Kolkata Knight Riders   \n",
       "1       13863        60       1  Kolkata Knight Riders   \n",
       "2       13864        60       1  Kolkata Knight Riders   \n",
       "3       13865        60       1  Kolkata Knight Riders   \n",
       "4       13866        60       1  Kolkata Knight Riders   \n",
       "\n",
       "                  bowling_team  over  ball      batsman  non_striker   bowler  \\\n",
       "0  Royal Challengers Bangalore     1     1   SC Ganguly  BB McCullum  P Kumar   \n",
       "1  Royal Challengers Bangalore     1     2  BB McCullum   SC Ganguly  P Kumar   \n",
       "2  Royal Challengers Bangalore     1     3  BB McCullum   SC Ganguly  P Kumar   \n",
       "3  Royal Challengers Bangalore     1     4  BB McCullum   SC Ganguly  P Kumar   \n",
       "4  Royal Challengers Bangalore     1     5  BB McCullum   SC Ganguly  P Kumar   \n",
       "\n",
       "   ...  bye_runs  legbye_runs  noball_runs  penalty_runs  batsman_runs  \\\n",
       "0  ...         0            1            0             0             0   \n",
       "1  ...         0            0            0             0             0   \n",
       "2  ...         0            0            0             0             0   \n",
       "3  ...         0            0            0             0             0   \n",
       "4  ...         0            0            0             0             0   \n",
       "\n",
       "   extra_runs  total_runs  player_dismissed  dismissal_kind fielder  \n",
       "0           1           1               NaN             NaN     NaN  \n",
       "1           0           0               NaN             NaN     NaN  \n",
       "2           1           1               NaN             NaN     NaN  \n",
       "3           0           0               NaN             NaN     NaN  \n",
       "4           0           0               NaN             NaN     NaN  \n",
       "\n",
       "[5 rows x 22 columns]"
      ]
     },
     "execution_count": 49,
     "metadata": {},
     "output_type": "execute_result"
    }
   ],
   "source": [
    "df = pd.read_csv(\"csvFiles/2008.csv\")\n",
    "df.head()"
   ]
  },
  {
   "cell_type": "code",
   "execution_count": 38,
   "id": "8a008af7",
   "metadata": {},
   "outputs": [],
   "source": [
    "data2008 = df.groupby('batsman')['batsman_runs'].sum().reset_index()"
   ]
  },
  {
   "cell_type": "code",
   "execution_count": 43,
   "id": "19dbf015",
   "metadata": {},
   "outputs": [],
   "source": [
    "matches2008 = df.query(\"batsman == 'A Chopra'\")"
   ]
  },
  {
   "cell_type": "code",
   "execution_count": 48,
   "id": "e6450e17",
   "metadata": {},
   "outputs": [
    {
     "data": {
      "text/plain": [
       "(55, 22)"
      ]
     },
     "execution_count": 48,
     "metadata": {},
     "output_type": "execute_result"
    }
   ],
   "source": [
    "matches2008.shape"
   ]
  },
  {
   "cell_type": "code",
   "execution_count": 45,
   "id": "c787c060",
   "metadata": {},
   "outputs": [
    {
     "data": {
      "text/plain": [
       "array([ 88,  92,  95,  99, 112])"
      ]
     },
     "execution_count": 45,
     "metadata": {},
     "output_type": "execute_result"
    }
   ],
   "source": [
    "matches2008['match_id'].unique()"
   ]
  },
  {
   "cell_type": "code",
   "execution_count": 82,
   "id": "419539ae",
   "metadata": {},
   "outputs": [
    {
     "name": "stdout",
     "output_type": "stream",
     "text": [
      "461\n"
     ]
    }
   ],
   "source": [
    "df = pd.read_csv(\"csvFiles/deliveries.csv\")\n",
    "data = df.groupby('batsman')['batsman_runs'].sum().reset_index()\n",
    "allBatsmanName = data['batsman'].unique().tolist()\n",
    "print(len(allBatsmanName))"
   ]
  },
  {
   "cell_type": "code",
   "execution_count": 28,
   "id": "6f120a7f",
   "metadata": {},
   "outputs": [],
   "source": [
    "df2009 = pd.read_csv(\"csvFiles/2009.csv\")\n",
    "data2009 = dict(df2009.groupby('batsman')['batsman_runs'].sum())"
   ]
  },
  {
   "cell_type": "code",
   "execution_count": 11,
   "id": "cd95686e",
   "metadata": {},
   "outputs": [],
   "source": [
    "df2010 = pd.read_csv(\"csvFiles/2010.csv\")\n",
    "data2010 = dict(df2010.groupby('batsman')['batsman_runs'].sum())"
   ]
  },
  {
   "cell_type": "code",
   "execution_count": 12,
   "id": "9a2f2e47",
   "metadata": {},
   "outputs": [],
   "source": [
    "df2011 = pd.read_csv(\"csvFiles/2011.csv\")\n",
    "data2011 = dict(df2011.groupby('batsman')['batsman_runs'].sum())"
   ]
  },
  {
   "cell_type": "code",
   "execution_count": 13,
   "id": "ea7a5845",
   "metadata": {},
   "outputs": [],
   "source": [
    "df2012 = pd.read_csv(\"csvFiles/2012.csv\")\n",
    "data2012 = dict(df2012.groupby('batsman')['batsman_runs'].sum())"
   ]
  },
  {
   "cell_type": "code",
   "execution_count": 14,
   "id": "dbe77260",
   "metadata": {},
   "outputs": [],
   "source": [
    "df2013 = pd.read_csv(\"csvFiles/2013.csv\")\n",
    "data2013 = dict(df2013.groupby('batsman')['batsman_runs'].sum())"
   ]
  },
  {
   "cell_type": "code",
   "execution_count": 15,
   "id": "a250559a",
   "metadata": {},
   "outputs": [],
   "source": [
    "df2014 = pd.read_csv(\"csvFiles/2014.csv\")\n",
    "data2014 = dict(df2014.groupby('batsman')['batsman_runs'].sum())"
   ]
  },
  {
   "cell_type": "code",
   "execution_count": 16,
   "id": "2007c0e6",
   "metadata": {},
   "outputs": [],
   "source": [
    "df2015 = pd.read_csv(\"csvFiles/2015.csv\")\n",
    "data2015 = dict(df2015.groupby('batsman')['batsman_runs'].sum())"
   ]
  },
  {
   "cell_type": "code",
   "execution_count": 17,
   "id": "045f6890",
   "metadata": {},
   "outputs": [],
   "source": [
    "df2016 = pd.read_csv(\"csvFiles/2016.csv\")\n",
    "data2016 = dict(df2016.groupby('batsman')['batsman_runs'].sum())"
   ]
  },
  {
   "cell_type": "code",
   "execution_count": 68,
   "id": "833dbeb7",
   "metadata": {},
   "outputs": [],
   "source": [
    "df2017 = pd.read_csv(\"csvFiles/2017.csv\")\n",
    "data2017 = dict(df2017.groupby('batsman')['batsman_runs'].sum())"
   ]
  },
  {
   "cell_type": "code",
   "execution_count": 69,
   "id": "d6bc9500",
   "metadata": {},
   "outputs": [
    {
     "data": {
      "text/html": [
       "<div>\n",
       "<style scoped>\n",
       "    .dataframe tbody tr th:only-of-type {\n",
       "        vertical-align: middle;\n",
       "    }\n",
       "\n",
       "    .dataframe tbody tr th {\n",
       "        vertical-align: top;\n",
       "    }\n",
       "\n",
       "    .dataframe thead th {\n",
       "        text-align: right;\n",
       "    }\n",
       "</style>\n",
       "<table border=\"1\" class=\"dataframe\">\n",
       "  <thead>\n",
       "    <tr style=\"text-align: right;\">\n",
       "      <th></th>\n",
       "      <th>Unnamed: 0</th>\n",
       "      <th>match_id</th>\n",
       "      <th>inning</th>\n",
       "      <th>batting_team</th>\n",
       "      <th>bowling_team</th>\n",
       "      <th>over</th>\n",
       "      <th>ball</th>\n",
       "      <th>batsman</th>\n",
       "      <th>non_striker</th>\n",
       "      <th>bowler</th>\n",
       "      <th>...</th>\n",
       "      <th>bye_runs</th>\n",
       "      <th>legbye_runs</th>\n",
       "      <th>noball_runs</th>\n",
       "      <th>penalty_runs</th>\n",
       "      <th>batsman_runs</th>\n",
       "      <th>extra_runs</th>\n",
       "      <th>total_runs</th>\n",
       "      <th>player_dismissed</th>\n",
       "      <th>dismissal_kind</th>\n",
       "      <th>fielder</th>\n",
       "    </tr>\n",
       "  </thead>\n",
       "  <tbody>\n",
       "    <tr>\n",
       "      <th>0</th>\n",
       "      <td>0</td>\n",
       "      <td>1</td>\n",
       "      <td>1</td>\n",
       "      <td>Sunrisers Hyderabad</td>\n",
       "      <td>Royal Challengers Bangalore</td>\n",
       "      <td>1</td>\n",
       "      <td>1</td>\n",
       "      <td>DA Warner</td>\n",
       "      <td>S Dhawan</td>\n",
       "      <td>TS Mills</td>\n",
       "      <td>...</td>\n",
       "      <td>0</td>\n",
       "      <td>0</td>\n",
       "      <td>0</td>\n",
       "      <td>0</td>\n",
       "      <td>0</td>\n",
       "      <td>0</td>\n",
       "      <td>0</td>\n",
       "      <td>NaN</td>\n",
       "      <td>NaN</td>\n",
       "      <td>NaN</td>\n",
       "    </tr>\n",
       "    <tr>\n",
       "      <th>1</th>\n",
       "      <td>1</td>\n",
       "      <td>1</td>\n",
       "      <td>1</td>\n",
       "      <td>Sunrisers Hyderabad</td>\n",
       "      <td>Royal Challengers Bangalore</td>\n",
       "      <td>1</td>\n",
       "      <td>2</td>\n",
       "      <td>DA Warner</td>\n",
       "      <td>S Dhawan</td>\n",
       "      <td>TS Mills</td>\n",
       "      <td>...</td>\n",
       "      <td>0</td>\n",
       "      <td>0</td>\n",
       "      <td>0</td>\n",
       "      <td>0</td>\n",
       "      <td>0</td>\n",
       "      <td>0</td>\n",
       "      <td>0</td>\n",
       "      <td>NaN</td>\n",
       "      <td>NaN</td>\n",
       "      <td>NaN</td>\n",
       "    </tr>\n",
       "    <tr>\n",
       "      <th>2</th>\n",
       "      <td>2</td>\n",
       "      <td>1</td>\n",
       "      <td>1</td>\n",
       "      <td>Sunrisers Hyderabad</td>\n",
       "      <td>Royal Challengers Bangalore</td>\n",
       "      <td>1</td>\n",
       "      <td>3</td>\n",
       "      <td>DA Warner</td>\n",
       "      <td>S Dhawan</td>\n",
       "      <td>TS Mills</td>\n",
       "      <td>...</td>\n",
       "      <td>0</td>\n",
       "      <td>0</td>\n",
       "      <td>0</td>\n",
       "      <td>0</td>\n",
       "      <td>4</td>\n",
       "      <td>0</td>\n",
       "      <td>4</td>\n",
       "      <td>NaN</td>\n",
       "      <td>NaN</td>\n",
       "      <td>NaN</td>\n",
       "    </tr>\n",
       "    <tr>\n",
       "      <th>3</th>\n",
       "      <td>3</td>\n",
       "      <td>1</td>\n",
       "      <td>1</td>\n",
       "      <td>Sunrisers Hyderabad</td>\n",
       "      <td>Royal Challengers Bangalore</td>\n",
       "      <td>1</td>\n",
       "      <td>4</td>\n",
       "      <td>DA Warner</td>\n",
       "      <td>S Dhawan</td>\n",
       "      <td>TS Mills</td>\n",
       "      <td>...</td>\n",
       "      <td>0</td>\n",
       "      <td>0</td>\n",
       "      <td>0</td>\n",
       "      <td>0</td>\n",
       "      <td>0</td>\n",
       "      <td>0</td>\n",
       "      <td>0</td>\n",
       "      <td>NaN</td>\n",
       "      <td>NaN</td>\n",
       "      <td>NaN</td>\n",
       "    </tr>\n",
       "    <tr>\n",
       "      <th>4</th>\n",
       "      <td>4</td>\n",
       "      <td>1</td>\n",
       "      <td>1</td>\n",
       "      <td>Sunrisers Hyderabad</td>\n",
       "      <td>Royal Challengers Bangalore</td>\n",
       "      <td>1</td>\n",
       "      <td>5</td>\n",
       "      <td>DA Warner</td>\n",
       "      <td>S Dhawan</td>\n",
       "      <td>TS Mills</td>\n",
       "      <td>...</td>\n",
       "      <td>0</td>\n",
       "      <td>0</td>\n",
       "      <td>0</td>\n",
       "      <td>0</td>\n",
       "      <td>0</td>\n",
       "      <td>2</td>\n",
       "      <td>2</td>\n",
       "      <td>NaN</td>\n",
       "      <td>NaN</td>\n",
       "      <td>NaN</td>\n",
       "    </tr>\n",
       "  </tbody>\n",
       "</table>\n",
       "<p>5 rows × 22 columns</p>\n",
       "</div>"
      ],
      "text/plain": [
       "   Unnamed: 0  match_id  inning         batting_team  \\\n",
       "0           0         1       1  Sunrisers Hyderabad   \n",
       "1           1         1       1  Sunrisers Hyderabad   \n",
       "2           2         1       1  Sunrisers Hyderabad   \n",
       "3           3         1       1  Sunrisers Hyderabad   \n",
       "4           4         1       1  Sunrisers Hyderabad   \n",
       "\n",
       "                  bowling_team  over  ball    batsman non_striker    bowler  \\\n",
       "0  Royal Challengers Bangalore     1     1  DA Warner    S Dhawan  TS Mills   \n",
       "1  Royal Challengers Bangalore     1     2  DA Warner    S Dhawan  TS Mills   \n",
       "2  Royal Challengers Bangalore     1     3  DA Warner    S Dhawan  TS Mills   \n",
       "3  Royal Challengers Bangalore     1     4  DA Warner    S Dhawan  TS Mills   \n",
       "4  Royal Challengers Bangalore     1     5  DA Warner    S Dhawan  TS Mills   \n",
       "\n",
       "   ...  bye_runs  legbye_runs  noball_runs  penalty_runs  batsman_runs  \\\n",
       "0  ...         0            0            0             0             0   \n",
       "1  ...         0            0            0             0             0   \n",
       "2  ...         0            0            0             0             4   \n",
       "3  ...         0            0            0             0             0   \n",
       "4  ...         0            0            0             0             0   \n",
       "\n",
       "   extra_runs  total_runs  player_dismissed  dismissal_kind fielder  \n",
       "0           0           0               NaN             NaN     NaN  \n",
       "1           0           0               NaN             NaN     NaN  \n",
       "2           0           4               NaN             NaN     NaN  \n",
       "3           0           0               NaN             NaN     NaN  \n",
       "4           2           2               NaN             NaN     NaN  \n",
       "\n",
       "[5 rows x 22 columns]"
      ]
     },
     "execution_count": 69,
     "metadata": {},
     "output_type": "execute_result"
    }
   ],
   "source": [
    "df2017.head()"
   ]
  },
  {
   "cell_type": "code",
   "execution_count": 1,
   "id": "271b04de",
   "metadata": {},
   "outputs": [],
   "source": [
    "import pandas as pd"
   ]
  },
  {
   "cell_type": "code",
   "execution_count": 2,
   "id": "afaa584e",
   "metadata": {},
   "outputs": [],
   "source": [
    "df = pd.read_csv(\"csvFiles/matches.csv\")"
   ]
  },
  {
   "cell_type": "code",
   "execution_count": 3,
   "id": "1c183f36",
   "metadata": {},
   "outputs": [
    {
     "data": {
      "text/html": [
       "<div>\n",
       "<style scoped>\n",
       "    .dataframe tbody tr th:only-of-type {\n",
       "        vertical-align: middle;\n",
       "    }\n",
       "\n",
       "    .dataframe tbody tr th {\n",
       "        vertical-align: top;\n",
       "    }\n",
       "\n",
       "    .dataframe thead th {\n",
       "        text-align: right;\n",
       "    }\n",
       "</style>\n",
       "<table border=\"1\" class=\"dataframe\">\n",
       "  <thead>\n",
       "    <tr style=\"text-align: right;\">\n",
       "      <th></th>\n",
       "      <th>id</th>\n",
       "      <th>season</th>\n",
       "      <th>city</th>\n",
       "      <th>date</th>\n",
       "      <th>team1</th>\n",
       "      <th>team2</th>\n",
       "      <th>toss_winner</th>\n",
       "      <th>toss_decision</th>\n",
       "      <th>result</th>\n",
       "      <th>dl_applied</th>\n",
       "      <th>winner</th>\n",
       "      <th>win_by_runs</th>\n",
       "      <th>win_by_wickets</th>\n",
       "      <th>player_of_match</th>\n",
       "      <th>venue</th>\n",
       "      <th>umpire1</th>\n",
       "      <th>umpire2</th>\n",
       "      <th>umpire3</th>\n",
       "    </tr>\n",
       "  </thead>\n",
       "  <tbody>\n",
       "    <tr>\n",
       "      <th>0</th>\n",
       "      <td>1</td>\n",
       "      <td>2017</td>\n",
       "      <td>Hyderabad</td>\n",
       "      <td>2017-04-05</td>\n",
       "      <td>Sunrisers Hyderabad</td>\n",
       "      <td>Royal Challengers Bangalore</td>\n",
       "      <td>Royal Challengers Bangalore</td>\n",
       "      <td>field</td>\n",
       "      <td>normal</td>\n",
       "      <td>0</td>\n",
       "      <td>Sunrisers Hyderabad</td>\n",
       "      <td>35</td>\n",
       "      <td>0</td>\n",
       "      <td>Yuvraj Singh</td>\n",
       "      <td>Rajiv Gandhi International Stadium, Uppal</td>\n",
       "      <td>AY Dandekar</td>\n",
       "      <td>NJ Llong</td>\n",
       "      <td>NaN</td>\n",
       "    </tr>\n",
       "    <tr>\n",
       "      <th>1</th>\n",
       "      <td>2</td>\n",
       "      <td>2017</td>\n",
       "      <td>Pune</td>\n",
       "      <td>2017-04-06</td>\n",
       "      <td>Mumbai Indians</td>\n",
       "      <td>Rising Pune Supergiant</td>\n",
       "      <td>Rising Pune Supergiant</td>\n",
       "      <td>field</td>\n",
       "      <td>normal</td>\n",
       "      <td>0</td>\n",
       "      <td>Rising Pune Supergiant</td>\n",
       "      <td>0</td>\n",
       "      <td>7</td>\n",
       "      <td>SPD Smith</td>\n",
       "      <td>Maharashtra Cricket Association Stadium</td>\n",
       "      <td>A Nand Kishore</td>\n",
       "      <td>S Ravi</td>\n",
       "      <td>NaN</td>\n",
       "    </tr>\n",
       "    <tr>\n",
       "      <th>2</th>\n",
       "      <td>3</td>\n",
       "      <td>2017</td>\n",
       "      <td>Rajkot</td>\n",
       "      <td>2017-04-07</td>\n",
       "      <td>Gujarat Lions</td>\n",
       "      <td>Kolkata Knight Riders</td>\n",
       "      <td>Kolkata Knight Riders</td>\n",
       "      <td>field</td>\n",
       "      <td>normal</td>\n",
       "      <td>0</td>\n",
       "      <td>Kolkata Knight Riders</td>\n",
       "      <td>0</td>\n",
       "      <td>10</td>\n",
       "      <td>CA Lynn</td>\n",
       "      <td>Saurashtra Cricket Association Stadium</td>\n",
       "      <td>Nitin Menon</td>\n",
       "      <td>CK Nandan</td>\n",
       "      <td>NaN</td>\n",
       "    </tr>\n",
       "    <tr>\n",
       "      <th>3</th>\n",
       "      <td>4</td>\n",
       "      <td>2017</td>\n",
       "      <td>Indore</td>\n",
       "      <td>2017-04-08</td>\n",
       "      <td>Rising Pune Supergiant</td>\n",
       "      <td>Kings XI Punjab</td>\n",
       "      <td>Kings XI Punjab</td>\n",
       "      <td>field</td>\n",
       "      <td>normal</td>\n",
       "      <td>0</td>\n",
       "      <td>Kings XI Punjab</td>\n",
       "      <td>0</td>\n",
       "      <td>6</td>\n",
       "      <td>GJ Maxwell</td>\n",
       "      <td>Holkar Cricket Stadium</td>\n",
       "      <td>AK Chaudhary</td>\n",
       "      <td>C Shamshuddin</td>\n",
       "      <td>NaN</td>\n",
       "    </tr>\n",
       "    <tr>\n",
       "      <th>4</th>\n",
       "      <td>5</td>\n",
       "      <td>2017</td>\n",
       "      <td>Bangalore</td>\n",
       "      <td>2017-04-08</td>\n",
       "      <td>Royal Challengers Bangalore</td>\n",
       "      <td>Delhi Daredevils</td>\n",
       "      <td>Royal Challengers Bangalore</td>\n",
       "      <td>bat</td>\n",
       "      <td>normal</td>\n",
       "      <td>0</td>\n",
       "      <td>Royal Challengers Bangalore</td>\n",
       "      <td>15</td>\n",
       "      <td>0</td>\n",
       "      <td>KM Jadhav</td>\n",
       "      <td>M Chinnaswamy Stadium</td>\n",
       "      <td>NaN</td>\n",
       "      <td>NaN</td>\n",
       "      <td>NaN</td>\n",
       "    </tr>\n",
       "  </tbody>\n",
       "</table>\n",
       "</div>"
      ],
      "text/plain": [
       "   id  season       city        date                        team1  \\\n",
       "0   1    2017  Hyderabad  2017-04-05          Sunrisers Hyderabad   \n",
       "1   2    2017       Pune  2017-04-06               Mumbai Indians   \n",
       "2   3    2017     Rajkot  2017-04-07                Gujarat Lions   \n",
       "3   4    2017     Indore  2017-04-08       Rising Pune Supergiant   \n",
       "4   5    2017  Bangalore  2017-04-08  Royal Challengers Bangalore   \n",
       "\n",
       "                         team2                  toss_winner toss_decision  \\\n",
       "0  Royal Challengers Bangalore  Royal Challengers Bangalore         field   \n",
       "1       Rising Pune Supergiant       Rising Pune Supergiant         field   \n",
       "2        Kolkata Knight Riders        Kolkata Knight Riders         field   \n",
       "3              Kings XI Punjab              Kings XI Punjab         field   \n",
       "4             Delhi Daredevils  Royal Challengers Bangalore           bat   \n",
       "\n",
       "   result  dl_applied                       winner  win_by_runs  \\\n",
       "0  normal           0          Sunrisers Hyderabad           35   \n",
       "1  normal           0       Rising Pune Supergiant            0   \n",
       "2  normal           0        Kolkata Knight Riders            0   \n",
       "3  normal           0              Kings XI Punjab            0   \n",
       "4  normal           0  Royal Challengers Bangalore           15   \n",
       "\n",
       "   win_by_wickets player_of_match                                      venue  \\\n",
       "0               0    Yuvraj Singh  Rajiv Gandhi International Stadium, Uppal   \n",
       "1               7       SPD Smith    Maharashtra Cricket Association Stadium   \n",
       "2              10         CA Lynn     Saurashtra Cricket Association Stadium   \n",
       "3               6      GJ Maxwell                     Holkar Cricket Stadium   \n",
       "4               0       KM Jadhav                      M Chinnaswamy Stadium   \n",
       "\n",
       "          umpire1        umpire2  umpire3  \n",
       "0     AY Dandekar       NJ Llong      NaN  \n",
       "1  A Nand Kishore         S Ravi      NaN  \n",
       "2     Nitin Menon      CK Nandan      NaN  \n",
       "3    AK Chaudhary  C Shamshuddin      NaN  \n",
       "4             NaN            NaN      NaN  "
      ]
     },
     "execution_count": 3,
     "metadata": {},
     "output_type": "execute_result"
    }
   ],
   "source": [
    "df.head()"
   ]
  },
  {
   "cell_type": "code",
   "execution_count": 4,
   "id": "1c33f069",
   "metadata": {},
   "outputs": [
    {
     "data": {
      "text/plain": [
       "array(['Hyderabad', 'Pune', 'Rajkot', 'Indore', 'Bangalore', 'Mumbai',\n",
       "       'Kolkata', 'Delhi', 'Chandigarh', 'Kanpur', 'Jaipur', 'Chennai',\n",
       "       'Cape Town', 'Port Elizabeth', 'Durban', 'Centurion',\n",
       "       'East London', 'Johannesburg', 'Kimberley', 'Bloemfontein',\n",
       "       'Ahmedabad', 'Cuttack', 'Nagpur', 'Dharamsala', 'Kochi',\n",
       "       'Visakhapatnam', 'Raipur', 'Ranchi', 'Abu Dhabi', 'Sharjah', nan],\n",
       "      dtype=object)"
      ]
     },
     "execution_count": 4,
     "metadata": {},
     "output_type": "execute_result"
    }
   ],
   "source": [
    "df['city'].unique()"
   ]
  },
  {
   "cell_type": "code",
   "execution_count": 5,
   "id": "185c12b3",
   "metadata": {},
   "outputs": [],
   "source": [
    "tmp_l = ['Hyderabad', 'Pune', 'Rajkot', 'Indore', 'Bangalore', 'Mumbai',\n",
    "       'Kolkata', 'Delhi', 'Chandigarh', 'Kanpur', 'Jaipur', 'Chennai',\n",
    "       'Ahmedabad', 'Cuttack', 'Nagpur', 'Dharamsala', 'Kochi',\n",
    "       'Visakhapatnam', 'Raipur', 'Ranchi']\n"
   ]
  },
  {
   "cell_type": "code",
   "execution_count": null,
   "id": "fbf2fb57",
   "metadata": {},
   "outputs": [],
   "source": []
  },
  {
   "cell_type": "raw",
   "id": "60dff669",
   "metadata": {},
   "source": [
    "hyderabad"
   ]
  },
  {
   "cell_type": "code",
   "execution_count": null,
   "id": "932b9f73",
   "metadata": {},
   "outputs": [],
   "source": []
  },
  {
   "cell_type": "code",
   "execution_count": null,
   "id": "cef12dd9",
   "metadata": {},
   "outputs": [],
   "source": []
  },
  {
   "cell_type": "code",
   "execution_count": 8,
   "id": "5d984440",
   "metadata": {},
   "outputs": [
    {
     "data": {
      "text/plain": [
       "21.73913043478261"
      ]
     },
     "execution_count": 8,
     "metadata": {},
     "output_type": "execute_result"
    }
   ],
   "source": [
    "matches_first_bat_win = df.query(\"city == 'Hyderabad' and toss_decision == 'bat' and win_by_runs > 0\")\n",
    "matches_first_bat = df.query(\"city == 'Hyderabad' and toss_decision == 'bat'\")\n",
    "matches_first_bat_win.shape\n",
    "matches_first_bat.shape\n",
    "matches_first_bat_win_percentage = (matches_first_bat_win.shape[0]/matches_first_bat.shape[0])*100\n",
    "matches_first_bat_win_percentage"
   ]
  },
  {
   "cell_type": "code",
   "execution_count": 22,
   "id": "b99c7e75",
   "metadata": {},
   "outputs": [
    {
     "name": "stdout",
     "output_type": "stream",
     "text": [
      "Hyderabad win by bat first 34.69387755102041\n",
      "Pune win by bat first 59.375\n",
      "Rajkot win by bat first 40.0\n",
      "Indore win by bat first 80.0\n",
      "Bangalore win by bat first 54.54545454545455\n",
      "Mumbai win by bat first 50.588235294117645\n",
      "Kolkata win by bat first 55.73770491803279\n",
      "Delhi win by bat first 51.666666666666664\n",
      "Chandigarh win by bat first 43.47826086956522\n",
      "Kanpur win by bat first 100.0\n",
      "Jaipur win by bat first 45.45454545454545\n",
      "Chennai win by bat first 52.083333333333336\n",
      "Ahmedabad win by bat first 50.0\n",
      "Cuttack win by bat first 71.42857142857143\n",
      "Nagpur win by bat first 33.333333333333336\n",
      "Dharamsala win by bat first 55.55555555555556\n",
      "Kochi win by bat first 40.0\n",
      "Visakhapatnam win by bat first 36.36363636363637\n",
      "Raipur win by bat first 50.0\n",
      "Ranchi win by bat first 57.142857142857146\n"
     ]
    }
   ],
   "source": [
    "result_toss_match_win = []\n",
    "for tmp in tmp_l:\n",
    "    toss_match_win = df.query(f\"city == '{tmp}' and toss_winner == winner\")\n",
    "    matches = df.query(f\"city == '{tmp}'\")    \n",
    "    if matches.shape[0] > 0:\n",
    "        temp = toss_match_win.shape[0]*100/matches.shape[0]\n",
    "        result_toss_match_win.append(temp)\n",
    "        print(f\"{tmp} win by bat first {temp}\")\n",
    "    else:\n",
    "        print(f\"{tmp} has no matches\")\n",
    "        "
   ]
  },
  {
   "cell_type": "code",
   "execution_count": 23,
   "id": "fdb7939c",
   "metadata": {},
   "outputs": [
    {
     "name": "stdout",
     "output_type": "stream",
     "text": [
      "[34.69387755102041, 59.375, 40.0, 80.0, 54.54545454545455, 50.588235294117645, 55.73770491803279, 51.666666666666664, 43.47826086956522, 100.0, 45.45454545454545, 52.083333333333336, 50.0, 71.42857142857143, 33.333333333333336, 55.55555555555556, 40.0, 36.36363636363637, 50.0, 57.142857142857146]\n"
     ]
    }
   ],
   "source": [
    "print(result_toss_match_win)"
   ]
  },
  {
   "cell_type": "code",
   "execution_count": 24,
   "id": "07b1533c",
   "metadata": {},
   "outputs": [
    {
     "name": "stdout",
     "output_type": "stream",
     "text": [
      "city:Hyderabad, toss-bat-percentage:46.93877551020408\n",
      "city:Pune, toss-bat-percentage:53.125\n",
      "city:Rajkot, toss-bat-percentage:30.0\n",
      "city:Indore, toss-bat-percentage:20.0\n",
      "city:Bangalore, toss-bat-percentage:13.636363636363637\n",
      "city:Mumbai, toss-bat-percentage:40.0\n",
      "city:Kolkata, toss-bat-percentage:45.90163934426229\n",
      "city:Delhi, toss-bat-percentage:43.333333333333336\n",
      "city:Chandigarh, toss-bat-percentage:34.78260869565217\n",
      "city:Kanpur, toss-bat-percentage:0.0\n",
      "city:Jaipur, toss-bat-percentage:42.42424242424242\n",
      "city:Chennai, toss-bat-percentage:70.83333333333333\n",
      "city:Ahmedabad, toss-bat-percentage:50.0\n",
      "city:Cuttack, toss-bat-percentage:28.571428571428573\n",
      "city:Nagpur, toss-bat-percentage:66.66666666666667\n",
      "city:Dharamsala, toss-bat-percentage:11.11111111111111\n",
      "city:Kochi, toss-bat-percentage:40.0\n",
      "city:Visakhapatnam, toss-bat-percentage:45.45454545454545\n",
      "city:Raipur, toss-bat-percentage:50.0\n",
      "city:Ranchi, toss-bat-percentage:42.857142857142854\n"
     ]
    }
   ],
   "source": [
    "result = []\n",
    "for tmp in tmp_l:\n",
    "    matches_first_bat = df.query(f\"city == '{tmp}' and toss_decision == 'bat'\")    \n",
    "    matches_in_city = df.query(f\"city == '{tmp}'\")\n",
    "    if matches_in_city.shape[0]:\n",
    "        print(f\"city:{tmp}, toss-bat-percentage:{matches_first_bat.shape[0]*100/matches_in_city.shape[0]}\")\n",
    "        result.append(matches_first_bat.shape[0]*100/matches_in_city.shape[0])\n",
    "    else:\n",
    "        print(f\"zero matches in {tmp}\")"
   ]
  },
  {
   "cell_type": "code",
   "execution_count": 25,
   "id": "cce26e2b",
   "metadata": {},
   "outputs": [
    {
     "name": "stdout",
     "output_type": "stream",
     "text": [
      "[46.93877551020408, 53.125, 30.0, 20.0, 13.636363636363637, 40.0, 45.90163934426229, 43.333333333333336, 34.78260869565217, 0.0, 42.42424242424242, 70.83333333333333, 50.0, 28.571428571428573, 66.66666666666667, 11.11111111111111, 40.0, 45.45454545454545, 50.0, 42.857142857142854]\n"
     ]
    }
   ],
   "source": [
    "print(result)"
   ]
  },
  {
   "cell_type": "code",
   "execution_count": 70,
   "id": "c627c080",
   "metadata": {},
   "outputs": [],
   "source": [
    "df = pd.read_csv(\"csvFiles/2008.csv\")"
   ]
  },
  {
   "cell_type": "code",
   "execution_count": 71,
   "id": "12e7630f",
   "metadata": {},
   "outputs": [
    {
     "data": {
      "text/html": [
       "<div>\n",
       "<style scoped>\n",
       "    .dataframe tbody tr th:only-of-type {\n",
       "        vertical-align: middle;\n",
       "    }\n",
       "\n",
       "    .dataframe tbody tr th {\n",
       "        vertical-align: top;\n",
       "    }\n",
       "\n",
       "    .dataframe thead th {\n",
       "        text-align: right;\n",
       "    }\n",
       "</style>\n",
       "<table border=\"1\" class=\"dataframe\">\n",
       "  <thead>\n",
       "    <tr style=\"text-align: right;\">\n",
       "      <th></th>\n",
       "      <th>Unnamed: 0</th>\n",
       "      <th>match_id</th>\n",
       "      <th>inning</th>\n",
       "      <th>batting_team</th>\n",
       "      <th>bowling_team</th>\n",
       "      <th>over</th>\n",
       "      <th>ball</th>\n",
       "      <th>batsman</th>\n",
       "      <th>non_striker</th>\n",
       "      <th>bowler</th>\n",
       "      <th>...</th>\n",
       "      <th>bye_runs</th>\n",
       "      <th>legbye_runs</th>\n",
       "      <th>noball_runs</th>\n",
       "      <th>penalty_runs</th>\n",
       "      <th>batsman_runs</th>\n",
       "      <th>extra_runs</th>\n",
       "      <th>total_runs</th>\n",
       "      <th>player_dismissed</th>\n",
       "      <th>dismissal_kind</th>\n",
       "      <th>fielder</th>\n",
       "    </tr>\n",
       "  </thead>\n",
       "  <tbody>\n",
       "    <tr>\n",
       "      <th>0</th>\n",
       "      <td>13862</td>\n",
       "      <td>60</td>\n",
       "      <td>1</td>\n",
       "      <td>Kolkata Knight Riders</td>\n",
       "      <td>Royal Challengers Bangalore</td>\n",
       "      <td>1</td>\n",
       "      <td>1</td>\n",
       "      <td>SC Ganguly</td>\n",
       "      <td>BB McCullum</td>\n",
       "      <td>P Kumar</td>\n",
       "      <td>...</td>\n",
       "      <td>0</td>\n",
       "      <td>1</td>\n",
       "      <td>0</td>\n",
       "      <td>0</td>\n",
       "      <td>0</td>\n",
       "      <td>1</td>\n",
       "      <td>1</td>\n",
       "      <td>NaN</td>\n",
       "      <td>NaN</td>\n",
       "      <td>NaN</td>\n",
       "    </tr>\n",
       "    <tr>\n",
       "      <th>1</th>\n",
       "      <td>13863</td>\n",
       "      <td>60</td>\n",
       "      <td>1</td>\n",
       "      <td>Kolkata Knight Riders</td>\n",
       "      <td>Royal Challengers Bangalore</td>\n",
       "      <td>1</td>\n",
       "      <td>2</td>\n",
       "      <td>BB McCullum</td>\n",
       "      <td>SC Ganguly</td>\n",
       "      <td>P Kumar</td>\n",
       "      <td>...</td>\n",
       "      <td>0</td>\n",
       "      <td>0</td>\n",
       "      <td>0</td>\n",
       "      <td>0</td>\n",
       "      <td>0</td>\n",
       "      <td>0</td>\n",
       "      <td>0</td>\n",
       "      <td>NaN</td>\n",
       "      <td>NaN</td>\n",
       "      <td>NaN</td>\n",
       "    </tr>\n",
       "    <tr>\n",
       "      <th>2</th>\n",
       "      <td>13864</td>\n",
       "      <td>60</td>\n",
       "      <td>1</td>\n",
       "      <td>Kolkata Knight Riders</td>\n",
       "      <td>Royal Challengers Bangalore</td>\n",
       "      <td>1</td>\n",
       "      <td>3</td>\n",
       "      <td>BB McCullum</td>\n",
       "      <td>SC Ganguly</td>\n",
       "      <td>P Kumar</td>\n",
       "      <td>...</td>\n",
       "      <td>0</td>\n",
       "      <td>0</td>\n",
       "      <td>0</td>\n",
       "      <td>0</td>\n",
       "      <td>0</td>\n",
       "      <td>1</td>\n",
       "      <td>1</td>\n",
       "      <td>NaN</td>\n",
       "      <td>NaN</td>\n",
       "      <td>NaN</td>\n",
       "    </tr>\n",
       "    <tr>\n",
       "      <th>3</th>\n",
       "      <td>13865</td>\n",
       "      <td>60</td>\n",
       "      <td>1</td>\n",
       "      <td>Kolkata Knight Riders</td>\n",
       "      <td>Royal Challengers Bangalore</td>\n",
       "      <td>1</td>\n",
       "      <td>4</td>\n",
       "      <td>BB McCullum</td>\n",
       "      <td>SC Ganguly</td>\n",
       "      <td>P Kumar</td>\n",
       "      <td>...</td>\n",
       "      <td>0</td>\n",
       "      <td>0</td>\n",
       "      <td>0</td>\n",
       "      <td>0</td>\n",
       "      <td>0</td>\n",
       "      <td>0</td>\n",
       "      <td>0</td>\n",
       "      <td>NaN</td>\n",
       "      <td>NaN</td>\n",
       "      <td>NaN</td>\n",
       "    </tr>\n",
       "    <tr>\n",
       "      <th>4</th>\n",
       "      <td>13866</td>\n",
       "      <td>60</td>\n",
       "      <td>1</td>\n",
       "      <td>Kolkata Knight Riders</td>\n",
       "      <td>Royal Challengers Bangalore</td>\n",
       "      <td>1</td>\n",
       "      <td>5</td>\n",
       "      <td>BB McCullum</td>\n",
       "      <td>SC Ganguly</td>\n",
       "      <td>P Kumar</td>\n",
       "      <td>...</td>\n",
       "      <td>0</td>\n",
       "      <td>0</td>\n",
       "      <td>0</td>\n",
       "      <td>0</td>\n",
       "      <td>0</td>\n",
       "      <td>0</td>\n",
       "      <td>0</td>\n",
       "      <td>NaN</td>\n",
       "      <td>NaN</td>\n",
       "      <td>NaN</td>\n",
       "    </tr>\n",
       "  </tbody>\n",
       "</table>\n",
       "<p>5 rows × 22 columns</p>\n",
       "</div>"
      ],
      "text/plain": [
       "   Unnamed: 0  match_id  inning           batting_team  \\\n",
       "0       13862        60       1  Kolkata Knight Riders   \n",
       "1       13863        60       1  Kolkata Knight Riders   \n",
       "2       13864        60       1  Kolkata Knight Riders   \n",
       "3       13865        60       1  Kolkata Knight Riders   \n",
       "4       13866        60       1  Kolkata Knight Riders   \n",
       "\n",
       "                  bowling_team  over  ball      batsman  non_striker   bowler  \\\n",
       "0  Royal Challengers Bangalore     1     1   SC Ganguly  BB McCullum  P Kumar   \n",
       "1  Royal Challengers Bangalore     1     2  BB McCullum   SC Ganguly  P Kumar   \n",
       "2  Royal Challengers Bangalore     1     3  BB McCullum   SC Ganguly  P Kumar   \n",
       "3  Royal Challengers Bangalore     1     4  BB McCullum   SC Ganguly  P Kumar   \n",
       "4  Royal Challengers Bangalore     1     5  BB McCullum   SC Ganguly  P Kumar   \n",
       "\n",
       "   ...  bye_runs  legbye_runs  noball_runs  penalty_runs  batsman_runs  \\\n",
       "0  ...         0            1            0             0             0   \n",
       "1  ...         0            0            0             0             0   \n",
       "2  ...         0            0            0             0             0   \n",
       "3  ...         0            0            0             0             0   \n",
       "4  ...         0            0            0             0             0   \n",
       "\n",
       "   extra_runs  total_runs  player_dismissed  dismissal_kind fielder  \n",
       "0           1           1               NaN             NaN     NaN  \n",
       "1           0           0               NaN             NaN     NaN  \n",
       "2           1           1               NaN             NaN     NaN  \n",
       "3           0           0               NaN             NaN     NaN  \n",
       "4           0           0               NaN             NaN     NaN  \n",
       "\n",
       "[5 rows x 22 columns]"
      ]
     },
     "execution_count": 71,
     "metadata": {},
     "output_type": "execute_result"
    }
   ],
   "source": [
    "df.head()"
   ]
  },
  {
   "cell_type": "code",
   "execution_count": 74,
   "id": "2802b257",
   "metadata": {},
   "outputs": [
    {
     "name": "stdout",
     "output_type": "stream",
     "text": [
      "0\n",
      "0\n"
     ]
    }
   ],
   "source": [
    "bowlerPerform = df.query(\"bowler == 'Rashid Khan'\")\n",
    "bowlerPerform.head()\n",
    "print(bowlerPerform.shape[0])\n",
    "number_over = 0\n",
    "fix_parameter = 0\n",
    "for tmp in bowlerPerform['over']:\n",
    "    if int(tmp) != fix_parameter:\n",
    "        number_over += 1\n",
    "        fix_parameter = int(tmp)\n",
    "\n",
    "        \n",
    "print(number_over)"
   ]
  },
  {
   "cell_type": "code",
   "execution_count": 60,
   "id": "ecc49d9b",
   "metadata": {},
   "outputs": [
    {
     "data": {
      "text/plain": [
       "13"
      ]
     },
     "execution_count": 60,
     "metadata": {},
     "output_type": "execute_result"
    }
   ],
   "source": [
    "len(bowlerPerform['match_id'].unique())"
   ]
  },
  {
   "cell_type": "code",
   "execution_count": null,
   "id": "5987b2e4",
   "metadata": {},
   "outputs": [],
   "source": []
  },
  {
   "cell_type": "code",
   "execution_count": 66,
   "id": "07a652f9",
   "metadata": {},
   "outputs": [
    {
     "name": "stdout",
     "output_type": "stream",
     "text": [
      "366\n",
      "economy: 8.133333333333333\n"
     ]
    },
    {
     "name": "stderr",
     "output_type": "stream",
     "text": [
      "/tmp/ipykernel_4452/4263754602.py:1: FutureWarning: Indexing with multiple keys (implicitly converted to a tuple of keys) will be deprecated, use a list instead.\n",
      "  runs_byPKumar = bowlerPerform.groupby(\"match_id\")['wide_runs', 'noball_runs', 'batsman_runs'].sum()\n"
     ]
    }
   ],
   "source": [
    "runs_byPKumar = bowlerPerform.groupby(\"match_id\")['wide_runs', 'noball_runs', 'batsman_runs'].sum()\n",
    "all_runs_byPKumar_in_matches = runs_byPKumar['wide_runs']+runs_byPKumar['noball_runs']+runs_byPKumar['batsman_runs']\n",
    "all_runs_byPKumar = all_runs_byPKumar_in_matches.sum()\n",
    "print(all_runs_byPKumar)\n",
    "print(f\"economy: {all_runs_byPKumar/number_over}\")"
   ]
  },
  {
   "cell_type": "code",
   "execution_count": 78,
   "id": "557a16ac",
   "metadata": {},
   "outputs": [
    {
     "data": {
      "text/plain": [
       "13"
      ]
     },
     "execution_count": 78,
     "metadata": {},
     "output_type": "execute_result"
    }
   ],
   "source": [
    "len(all_runs_byPKumar_in_matches)"
   ]
  },
  {
   "cell_type": "code",
   "execution_count": 51,
   "id": "2680243a",
   "metadata": {},
   "outputs": [
    {
     "data": {
      "text/plain": [
       "array([nan, 'caught', 'bowled', 'run out', 'lbw', 'retired hurt',\n",
       "       'stumped', 'caught and bowled', 'hit wicket'], dtype=object)"
      ]
     },
     "execution_count": 51,
     "metadata": {},
     "output_type": "execute_result"
    }
   ],
   "source": [
    "df['dismissal_kind'].unique()"
   ]
  },
  {
   "cell_type": "code",
   "execution_count": 67,
   "id": "38aac053",
   "metadata": {},
   "outputs": [
    {
     "name": "stdout",
     "output_type": "stream",
     "text": [
      "11\n"
     ]
    }
   ],
   "source": [
    "wickets = 0\n",
    "for tmp in bowlerPerform['dismissal_kind']:\n",
    "    if (not(pd.isna(tmp) or tmp == 'retired_hurt' or tmp == 'run out')):\n",
    "        wickets += 1\n",
    "        \n",
    "print(wickets)"
   ]
  },
  {
   "cell_type": "code",
   "execution_count": null,
   "id": "5f947589",
   "metadata": {},
   "outputs": [],
   "source": []
  }
 ],
 "metadata": {
  "kernelspec": {
   "display_name": "Python 3 (ipykernel)",
   "language": "python",
   "name": "python3"
  },
  "language_info": {
   "codemirror_mode": {
    "name": "ipython",
    "version": 3
   },
   "file_extension": ".py",
   "mimetype": "text/x-python",
   "name": "python",
   "nbconvert_exporter": "python",
   "pygments_lexer": "ipython3",
   "version": "3.8.10"
  }
 },
 "nbformat": 4,
 "nbformat_minor": 5
}
