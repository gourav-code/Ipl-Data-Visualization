{
 "cells": [
  {
   "cell_type": "code",
   "execution_count": 1,
   "id": "f735acb5",
   "metadata": {},
   "outputs": [],
   "source": [
    "import pandas as pd"
   ]
  },
  {
   "cell_type": "code",
   "execution_count": 2,
   "id": "02256243",
   "metadata": {},
   "outputs": [],
   "source": [
    "data = pd.read_csv(\"csvFiles/deliveries.csv\")"
   ]
  },
  {
   "cell_type": "code",
   "execution_count": 3,
   "id": "d552f988",
   "metadata": {},
   "outputs": [
    {
     "data": {
      "text/html": [
       "<div>\n",
       "<style scoped>\n",
       "    .dataframe tbody tr th:only-of-type {\n",
       "        vertical-align: middle;\n",
       "    }\n",
       "\n",
       "    .dataframe tbody tr th {\n",
       "        vertical-align: top;\n",
       "    }\n",
       "\n",
       "    .dataframe thead th {\n",
       "        text-align: right;\n",
       "    }\n",
       "</style>\n",
       "<table border=\"1\" class=\"dataframe\">\n",
       "  <thead>\n",
       "    <tr style=\"text-align: right;\">\n",
       "      <th></th>\n",
       "      <th>match_id</th>\n",
       "      <th>inning</th>\n",
       "      <th>batting_team</th>\n",
       "      <th>bowling_team</th>\n",
       "      <th>over</th>\n",
       "      <th>ball</th>\n",
       "      <th>batsman</th>\n",
       "      <th>non_striker</th>\n",
       "      <th>bowler</th>\n",
       "      <th>is_super_over</th>\n",
       "      <th>...</th>\n",
       "      <th>bye_runs</th>\n",
       "      <th>legbye_runs</th>\n",
       "      <th>noball_runs</th>\n",
       "      <th>penalty_runs</th>\n",
       "      <th>batsman_runs</th>\n",
       "      <th>extra_runs</th>\n",
       "      <th>total_runs</th>\n",
       "      <th>player_dismissed</th>\n",
       "      <th>dismissal_kind</th>\n",
       "      <th>fielder</th>\n",
       "    </tr>\n",
       "  </thead>\n",
       "  <tbody>\n",
       "    <tr>\n",
       "      <th>0</th>\n",
       "      <td>1</td>\n",
       "      <td>1</td>\n",
       "      <td>Sunrisers Hyderabad</td>\n",
       "      <td>Royal Challengers Bangalore</td>\n",
       "      <td>1</td>\n",
       "      <td>1</td>\n",
       "      <td>DA Warner</td>\n",
       "      <td>S Dhawan</td>\n",
       "      <td>TS Mills</td>\n",
       "      <td>0</td>\n",
       "      <td>...</td>\n",
       "      <td>0</td>\n",
       "      <td>0</td>\n",
       "      <td>0</td>\n",
       "      <td>0</td>\n",
       "      <td>0</td>\n",
       "      <td>0</td>\n",
       "      <td>0</td>\n",
       "      <td>NaN</td>\n",
       "      <td>NaN</td>\n",
       "      <td>NaN</td>\n",
       "    </tr>\n",
       "    <tr>\n",
       "      <th>1</th>\n",
       "      <td>1</td>\n",
       "      <td>1</td>\n",
       "      <td>Sunrisers Hyderabad</td>\n",
       "      <td>Royal Challengers Bangalore</td>\n",
       "      <td>1</td>\n",
       "      <td>2</td>\n",
       "      <td>DA Warner</td>\n",
       "      <td>S Dhawan</td>\n",
       "      <td>TS Mills</td>\n",
       "      <td>0</td>\n",
       "      <td>...</td>\n",
       "      <td>0</td>\n",
       "      <td>0</td>\n",
       "      <td>0</td>\n",
       "      <td>0</td>\n",
       "      <td>0</td>\n",
       "      <td>0</td>\n",
       "      <td>0</td>\n",
       "      <td>NaN</td>\n",
       "      <td>NaN</td>\n",
       "      <td>NaN</td>\n",
       "    </tr>\n",
       "    <tr>\n",
       "      <th>2</th>\n",
       "      <td>1</td>\n",
       "      <td>1</td>\n",
       "      <td>Sunrisers Hyderabad</td>\n",
       "      <td>Royal Challengers Bangalore</td>\n",
       "      <td>1</td>\n",
       "      <td>3</td>\n",
       "      <td>DA Warner</td>\n",
       "      <td>S Dhawan</td>\n",
       "      <td>TS Mills</td>\n",
       "      <td>0</td>\n",
       "      <td>...</td>\n",
       "      <td>0</td>\n",
       "      <td>0</td>\n",
       "      <td>0</td>\n",
       "      <td>0</td>\n",
       "      <td>4</td>\n",
       "      <td>0</td>\n",
       "      <td>4</td>\n",
       "      <td>NaN</td>\n",
       "      <td>NaN</td>\n",
       "      <td>NaN</td>\n",
       "    </tr>\n",
       "    <tr>\n",
       "      <th>3</th>\n",
       "      <td>1</td>\n",
       "      <td>1</td>\n",
       "      <td>Sunrisers Hyderabad</td>\n",
       "      <td>Royal Challengers Bangalore</td>\n",
       "      <td>1</td>\n",
       "      <td>4</td>\n",
       "      <td>DA Warner</td>\n",
       "      <td>S Dhawan</td>\n",
       "      <td>TS Mills</td>\n",
       "      <td>0</td>\n",
       "      <td>...</td>\n",
       "      <td>0</td>\n",
       "      <td>0</td>\n",
       "      <td>0</td>\n",
       "      <td>0</td>\n",
       "      <td>0</td>\n",
       "      <td>0</td>\n",
       "      <td>0</td>\n",
       "      <td>NaN</td>\n",
       "      <td>NaN</td>\n",
       "      <td>NaN</td>\n",
       "    </tr>\n",
       "    <tr>\n",
       "      <th>4</th>\n",
       "      <td>1</td>\n",
       "      <td>1</td>\n",
       "      <td>Sunrisers Hyderabad</td>\n",
       "      <td>Royal Challengers Bangalore</td>\n",
       "      <td>1</td>\n",
       "      <td>5</td>\n",
       "      <td>DA Warner</td>\n",
       "      <td>S Dhawan</td>\n",
       "      <td>TS Mills</td>\n",
       "      <td>0</td>\n",
       "      <td>...</td>\n",
       "      <td>0</td>\n",
       "      <td>0</td>\n",
       "      <td>0</td>\n",
       "      <td>0</td>\n",
       "      <td>0</td>\n",
       "      <td>2</td>\n",
       "      <td>2</td>\n",
       "      <td>NaN</td>\n",
       "      <td>NaN</td>\n",
       "      <td>NaN</td>\n",
       "    </tr>\n",
       "  </tbody>\n",
       "</table>\n",
       "<p>5 rows × 21 columns</p>\n",
       "</div>"
      ],
      "text/plain": [
       "   match_id  inning         batting_team                 bowling_team  over  \\\n",
       "0         1       1  Sunrisers Hyderabad  Royal Challengers Bangalore     1   \n",
       "1         1       1  Sunrisers Hyderabad  Royal Challengers Bangalore     1   \n",
       "2         1       1  Sunrisers Hyderabad  Royal Challengers Bangalore     1   \n",
       "3         1       1  Sunrisers Hyderabad  Royal Challengers Bangalore     1   \n",
       "4         1       1  Sunrisers Hyderabad  Royal Challengers Bangalore     1   \n",
       "\n",
       "   ball    batsman non_striker    bowler  is_super_over  ...  bye_runs  \\\n",
       "0     1  DA Warner    S Dhawan  TS Mills              0  ...         0   \n",
       "1     2  DA Warner    S Dhawan  TS Mills              0  ...         0   \n",
       "2     3  DA Warner    S Dhawan  TS Mills              0  ...         0   \n",
       "3     4  DA Warner    S Dhawan  TS Mills              0  ...         0   \n",
       "4     5  DA Warner    S Dhawan  TS Mills              0  ...         0   \n",
       "\n",
       "   legbye_runs  noball_runs  penalty_runs  batsman_runs  extra_runs  \\\n",
       "0            0            0             0             0           0   \n",
       "1            0            0             0             0           0   \n",
       "2            0            0             0             4           0   \n",
       "3            0            0             0             0           0   \n",
       "4            0            0             0             0           2   \n",
       "\n",
       "   total_runs  player_dismissed dismissal_kind fielder  \n",
       "0           0               NaN            NaN     NaN  \n",
       "1           0               NaN            NaN     NaN  \n",
       "2           4               NaN            NaN     NaN  \n",
       "3           0               NaN            NaN     NaN  \n",
       "4           2               NaN            NaN     NaN  \n",
       "\n",
       "[5 rows x 21 columns]"
      ]
     },
     "execution_count": 3,
     "metadata": {},
     "output_type": "execute_result"
    }
   ],
   "source": [
    "data.head()"
   ]
  },
  {
   "cell_type": "code",
   "execution_count": 4,
   "id": "9f8959e8",
   "metadata": {},
   "outputs": [
    {
     "name": "stdout",
     "output_type": "stream",
     "text": [
      "bowler        P Kumar\n",
      "total_runs        141\n",
      "Name: 98, dtype: object\n",
      "141\n"
     ]
    }
   ],
   "source": [
    "batsmanName = 'DA Warner'\n",
    "df = data.query(f\"batsman == '{batsmanName}'\").reset_index()\n",
    "temp = df.groupby('bowler')['total_runs'].sum().reset_index()\n",
    "index = temp['total_runs'].idxmax()\n",
    "max_row = temp.loc[index]\n",
    "print(max_row)\n",
    "print(max_row['total_runs'])"
   ]
  },
  {
   "cell_type": "code",
   "execution_count": 5,
   "id": "614d265c",
   "metadata": {},
   "outputs": [
    {
     "data": {
      "text/plain": [
       "np.int64(4213)"
      ]
     },
     "execution_count": 5,
     "metadata": {},
     "output_type": "execute_result"
    }
   ],
   "source": [
    "df['total_runs'].sum()"
   ]
  },
  {
   "cell_type": "code",
   "execution_count": 6,
   "id": "4adc520b",
   "metadata": {},
   "outputs": [],
   "source": [
    "df.loc[:,'balls'] = 1"
   ]
  },
  {
   "cell_type": "code",
   "execution_count": 7,
   "id": "4ecb484c",
   "metadata": {},
   "outputs": [
    {
     "name": "stdout",
     "output_type": "stream",
     "text": [
      "bowler    P Kumar\n",
      "balls          92\n",
      "Name: 98, dtype: object\n"
     ]
    }
   ],
   "source": [
    "temp1 = df.groupby('bowler')['balls'].sum().reset_index()\n",
    "index_ball = temp1['balls'].idxmax()\n",
    "max_row_ball = temp1.loc[index_ball]\n",
    "print(max_row_ball)"
   ]
  },
  {
   "cell_type": "code",
   "execution_count": 8,
   "id": "a5821f2b",
   "metadata": {},
   "outputs": [
    {
     "name": "stdout",
     "output_type": "stream",
     "text": [
      "   index   bowler  balls\n",
      "0     98  P Kumar     92\n"
     ]
    }
   ],
   "source": [
    "bowler_name = 'P Kumar'\n",
    "ball_played = temp1.query(f\"bowler == '{bowler_name}'\").reset_index()\n",
    "print(ball_played)"
   ]
  },
  {
   "cell_type": "code",
   "execution_count": 9,
   "id": "6549d6cb",
   "metadata": {},
   "outputs": [
    {
     "name": "stdout",
     "output_type": "stream",
     "text": [
      "Harbhajan Singh\n"
     ]
    }
   ],
   "source": [
    "bowler_name = 'P Kumar'\n",
    "df1 = data.query(f\"bowler == '{bowler_name}'\").reset_index()\n",
    "condition = \"not (dismissal_kind == 'retired_hurt' or dismissal_kind == 'run out' or dismissal_kind.isna())\"\n",
    "dataBowler = df1.query(condition).reset_index()\n",
    "dataBowler.loc[:, 'Wicket'] = 1\n",
    "tmp = dataBowler.groupby('batsman')['Wicket'].sum().reset_index()\n",
    "index = tmp['Wicket'].idxmax()\n",
    "max_wicket_row = tmp.loc[index]\n",
    "print(max_wicket_row['batsman'])"
   ]
  },
  {
   "cell_type": "code",
   "execution_count": null,
   "id": "a710e531",
   "metadata": {},
   "outputs": [],
   "source": []
  },
  {
   "cell_type": "code",
   "execution_count": 10,
   "id": "b77e9297",
   "metadata": {},
   "outputs": [
    {
     "name": "stdout",
     "output_type": "stream",
     "text": [
      "dict_keys(['Sunrisers Hyderabad', 'Royal Challengers Bangalore', 'Mumbai Indians', 'Rising Pune Supergiant', 'Gujarat Lions', 'Kolkata Knight Riders', 'Kings XI Punjab', 'Delhi Daredevils', 'Chennai Super Kings', 'Rajasthan Royals', 'Deccan Chargers', 'Kochi Tuskers Kerala', 'Pune Warriors'])\n"
     ]
    }
   ],
   "source": [
    "team_name_dict = {\n",
    "    'Sunrisers Hyderabad' : 'srh',\n",
    "    'Royal Challengers Bangalore': 'rcb',\n",
    "    'Mumbai Indians' : 'mi',\n",
    "    'Rising Pune Supergiant' : 'rpsg',\n",
    "    'Gujarat Lions' : 'gl',\n",
    "    'Kolkata Knight Riders' : 'kkr',\n",
    "    'Kings XI Punjab' : 'kxip',\n",
    "    'Delhi Daredevils' : 'dd',\n",
    "    'Chennai Super Kings' : 'csk',\n",
    "    'Rajasthan Royals' : 'rr',\n",
    "    'Deccan Chargers' : 'dc',\n",
    "    'Kochi Tuskers Kerala' : 'ktk',\n",
    "    'Pune Warriors' : 'pwi'\n",
    "}\n",
    "\n",
    "print(team_name_dict.keys())"
   ]
  },
  {
   "cell_type": "code",
   "execution_count": null,
   "id": "af3c7a8a",
   "metadata": {},
   "outputs": [],
   "source": []
  },
  {
   "cell_type": "code",
   "execution_count": 11,
   "id": "19d73312",
   "metadata": {},
   "outputs": [
    {
     "data": {
      "text/html": [
       "<div>\n",
       "<style scoped>\n",
       "    .dataframe tbody tr th:only-of-type {\n",
       "        vertical-align: middle;\n",
       "    }\n",
       "\n",
       "    .dataframe tbody tr th {\n",
       "        vertical-align: top;\n",
       "    }\n",
       "\n",
       "    .dataframe thead th {\n",
       "        text-align: right;\n",
       "    }\n",
       "</style>\n",
       "<table border=\"1\" class=\"dataframe\">\n",
       "  <thead>\n",
       "    <tr style=\"text-align: right;\">\n",
       "      <th></th>\n",
       "      <th>index</th>\n",
       "      <th>match_id</th>\n",
       "      <th>inning</th>\n",
       "      <th>batting_team</th>\n",
       "      <th>bowling_team</th>\n",
       "      <th>over</th>\n",
       "      <th>ball</th>\n",
       "      <th>batsman</th>\n",
       "      <th>non_striker</th>\n",
       "      <th>bowler</th>\n",
       "      <th>...</th>\n",
       "      <th>bye_runs</th>\n",
       "      <th>legbye_runs</th>\n",
       "      <th>noball_runs</th>\n",
       "      <th>penalty_runs</th>\n",
       "      <th>batsman_runs</th>\n",
       "      <th>extra_runs</th>\n",
       "      <th>total_runs</th>\n",
       "      <th>player_dismissed</th>\n",
       "      <th>dismissal_kind</th>\n",
       "      <th>fielder</th>\n",
       "    </tr>\n",
       "  </thead>\n",
       "  <tbody>\n",
       "    <tr>\n",
       "      <th>0</th>\n",
       "      <td>14087</td>\n",
       "      <td>61</td>\n",
       "      <td>1</td>\n",
       "      <td>Chennai Super Kings</td>\n",
       "      <td>Kings XI Punjab</td>\n",
       "      <td>1</td>\n",
       "      <td>1</td>\n",
       "      <td>PA Patel</td>\n",
       "      <td>ML Hayden</td>\n",
       "      <td>B Lee</td>\n",
       "      <td>...</td>\n",
       "      <td>0</td>\n",
       "      <td>0</td>\n",
       "      <td>0</td>\n",
       "      <td>0</td>\n",
       "      <td>0</td>\n",
       "      <td>0</td>\n",
       "      <td>0</td>\n",
       "      <td>NaN</td>\n",
       "      <td>NaN</td>\n",
       "      <td>NaN</td>\n",
       "    </tr>\n",
       "    <tr>\n",
       "      <th>1</th>\n",
       "      <td>14088</td>\n",
       "      <td>61</td>\n",
       "      <td>1</td>\n",
       "      <td>Chennai Super Kings</td>\n",
       "      <td>Kings XI Punjab</td>\n",
       "      <td>1</td>\n",
       "      <td>2</td>\n",
       "      <td>PA Patel</td>\n",
       "      <td>ML Hayden</td>\n",
       "      <td>B Lee</td>\n",
       "      <td>...</td>\n",
       "      <td>0</td>\n",
       "      <td>0</td>\n",
       "      <td>0</td>\n",
       "      <td>0</td>\n",
       "      <td>0</td>\n",
       "      <td>0</td>\n",
       "      <td>0</td>\n",
       "      <td>NaN</td>\n",
       "      <td>NaN</td>\n",
       "      <td>NaN</td>\n",
       "    </tr>\n",
       "    <tr>\n",
       "      <th>2</th>\n",
       "      <td>14089</td>\n",
       "      <td>61</td>\n",
       "      <td>1</td>\n",
       "      <td>Chennai Super Kings</td>\n",
       "      <td>Kings XI Punjab</td>\n",
       "      <td>1</td>\n",
       "      <td>3</td>\n",
       "      <td>PA Patel</td>\n",
       "      <td>ML Hayden</td>\n",
       "      <td>B Lee</td>\n",
       "      <td>...</td>\n",
       "      <td>0</td>\n",
       "      <td>0</td>\n",
       "      <td>0</td>\n",
       "      <td>0</td>\n",
       "      <td>1</td>\n",
       "      <td>0</td>\n",
       "      <td>1</td>\n",
       "      <td>NaN</td>\n",
       "      <td>NaN</td>\n",
       "      <td>NaN</td>\n",
       "    </tr>\n",
       "    <tr>\n",
       "      <th>3</th>\n",
       "      <td>14090</td>\n",
       "      <td>61</td>\n",
       "      <td>1</td>\n",
       "      <td>Chennai Super Kings</td>\n",
       "      <td>Kings XI Punjab</td>\n",
       "      <td>1</td>\n",
       "      <td>4</td>\n",
       "      <td>ML Hayden</td>\n",
       "      <td>PA Patel</td>\n",
       "      <td>B Lee</td>\n",
       "      <td>...</td>\n",
       "      <td>0</td>\n",
       "      <td>0</td>\n",
       "      <td>0</td>\n",
       "      <td>0</td>\n",
       "      <td>0</td>\n",
       "      <td>0</td>\n",
       "      <td>0</td>\n",
       "      <td>NaN</td>\n",
       "      <td>NaN</td>\n",
       "      <td>NaN</td>\n",
       "    </tr>\n",
       "    <tr>\n",
       "      <th>4</th>\n",
       "      <td>14091</td>\n",
       "      <td>61</td>\n",
       "      <td>1</td>\n",
       "      <td>Chennai Super Kings</td>\n",
       "      <td>Kings XI Punjab</td>\n",
       "      <td>1</td>\n",
       "      <td>5</td>\n",
       "      <td>ML Hayden</td>\n",
       "      <td>PA Patel</td>\n",
       "      <td>B Lee</td>\n",
       "      <td>...</td>\n",
       "      <td>0</td>\n",
       "      <td>0</td>\n",
       "      <td>0</td>\n",
       "      <td>0</td>\n",
       "      <td>4</td>\n",
       "      <td>0</td>\n",
       "      <td>4</td>\n",
       "      <td>NaN</td>\n",
       "      <td>NaN</td>\n",
       "      <td>NaN</td>\n",
       "    </tr>\n",
       "  </tbody>\n",
       "</table>\n",
       "<p>5 rows × 22 columns</p>\n",
       "</div>"
      ],
      "text/plain": [
       "   index  match_id  inning         batting_team     bowling_team  over  ball  \\\n",
       "0  14087        61       1  Chennai Super Kings  Kings XI Punjab     1     1   \n",
       "1  14088        61       1  Chennai Super Kings  Kings XI Punjab     1     2   \n",
       "2  14089        61       1  Chennai Super Kings  Kings XI Punjab     1     3   \n",
       "3  14090        61       1  Chennai Super Kings  Kings XI Punjab     1     4   \n",
       "4  14091        61       1  Chennai Super Kings  Kings XI Punjab     1     5   \n",
       "\n",
       "     batsman non_striker bowler  ...  bye_runs  legbye_runs  noball_runs  \\\n",
       "0   PA Patel   ML Hayden  B Lee  ...         0            0            0   \n",
       "1   PA Patel   ML Hayden  B Lee  ...         0            0            0   \n",
       "2   PA Patel   ML Hayden  B Lee  ...         0            0            0   \n",
       "3  ML Hayden    PA Patel  B Lee  ...         0            0            0   \n",
       "4  ML Hayden    PA Patel  B Lee  ...         0            0            0   \n",
       "\n",
       "   penalty_runs  batsman_runs  extra_runs  total_runs  player_dismissed  \\\n",
       "0             0             0           0           0               NaN   \n",
       "1             0             0           0           0               NaN   \n",
       "2             0             1           0           1               NaN   \n",
       "3             0             0           0           0               NaN   \n",
       "4             0             4           0           4               NaN   \n",
       "\n",
       "   dismissal_kind fielder  \n",
       "0             NaN     NaN  \n",
       "1             NaN     NaN  \n",
       "2             NaN     NaN  \n",
       "3             NaN     NaN  \n",
       "4             NaN     NaN  \n",
       "\n",
       "[5 rows x 22 columns]"
      ]
     },
     "execution_count": 11,
     "metadata": {},
     "output_type": "execute_result"
    }
   ],
   "source": [
    "team_name = \"Chennai Super Kings\"\n",
    "df = data.query(f\"batting_team == '{team_name}'\").reset_index()\n",
    "team_name = \"Mumbai Indians\"\n",
    "df1 = data.query(f\"batting_team == '{team_name}'\").reset_index()\n",
    "df.head()"
   ]
  },
  {
   "cell_type": "code",
   "execution_count": 12,
   "id": "a33d60ba",
   "metadata": {},
   "outputs": [],
   "source": [
    "runs1 = df.groupby(\"match_id\")['total_runs'].sum().reset_index()\n",
    "runs2 = df1.groupby(\"match_id\")['total_runs'].sum().reset_index()\n"
   ]
  },
  {
   "cell_type": "code",
   "execution_count": 16,
   "id": "f428edd3-3c1e-4be4-8350-976b2de24646",
   "metadata": {},
   "outputs": [],
   "source": [
    "import dash"
   ]
  },
  {
   "cell_type": "code",
   "execution_count": 20,
   "id": "cd960a0d-1f4f-4e6b-8938-b43738eb8b31",
   "metadata": {},
   "outputs": [
    {
     "name": "stdout",
     "output_type": "stream",
     "text": [
      "Help on class Div in module dash.html.Div:\n",
      "\n",
      "class Div(dash.development.base_component.Component)\n",
      " |  Div(children=None, id=undefined, n_clicks=undefined, n_clicks_timestamp=undefined, disable_n_clicks=undefined, key=undefined, accessKey=undefined, className=undefined, contentEditable=undefined, dir=undefined, draggable=undefined, hidden=undefined, lang=undefined, role=undefined, spellCheck=undefined, style=undefined, tabIndex=undefined, title=undefined, loading_state=undefined, **kwargs)\n",
      " |  \n",
      " |  A Div component.\n",
      " |  Div is a wrapper for the <div> HTML5 element.\n",
      " |  For detailed attribute info see:\n",
      " |  https://developer.mozilla.org/en-US/docs/Web/HTML/Element/div\n",
      " |  \n",
      " |  Keyword arguments:\n",
      " |  \n",
      " |  - children (a list of or a singular dash component, string or number; optional):\n",
      " |      The children of this component.\n",
      " |  \n",
      " |  - id (string; optional):\n",
      " |      The ID of this component, used to identify dash components in\n",
      " |      callbacks. The ID needs to be unique across all of the components\n",
      " |      in an app.\n",
      " |  \n",
      " |  - accessKey (string; optional):\n",
      " |      Keyboard shortcut to activate or add focus to the element.\n",
      " |  \n",
      " |  - aria-* (string; optional):\n",
      " |      A wildcard aria attribute.\n",
      " |  \n",
      " |  - className (string; optional):\n",
      " |      Often used with CSS to style elements with common properties.\n",
      " |  \n",
      " |  - contentEditable (string; optional):\n",
      " |      Indicates whether the element's content is editable.\n",
      " |  \n",
      " |  - data-* (string; optional):\n",
      " |      A wildcard data attribute.\n",
      " |  \n",
      " |  - dir (string; optional):\n",
      " |      Defines the text direction. Allowed values are ltr (Left-To-Right)\n",
      " |      or rtl (Right-To-Left).\n",
      " |  \n",
      " |  - disable_n_clicks (boolean; optional):\n",
      " |      When True, this will disable the n_clicks prop.  Use this to\n",
      " |      remove event listeners that may interfere with screen readers.\n",
      " |  \n",
      " |  - draggable (string; optional):\n",
      " |      Defines whether the element can be dragged.\n",
      " |  \n",
      " |  - hidden (a value equal to: 'hidden', 'HIDDEN' | boolean; optional):\n",
      " |      Prevents rendering of given element, while keeping child elements,\n",
      " |      e.g. script elements, active.\n",
      " |  \n",
      " |  - key (string; optional):\n",
      " |      A unique identifier for the component, used to improve performance\n",
      " |      by React.js while rendering components See\n",
      " |      https://reactjs.org/docs/lists-and-keys.html for more info.\n",
      " |  \n",
      " |  - lang (string; optional):\n",
      " |      Defines the language used in the element.\n",
      " |  \n",
      " |  - loading_state (dict; optional):\n",
      " |      Object that holds the loading state object coming from\n",
      " |      dash-renderer.\n",
      " |  \n",
      " |      `loading_state` is a dict with keys:\n",
      " |  \n",
      " |      - component_name (string; optional):\n",
      " |          Holds the name of the component that is loading.\n",
      " |  \n",
      " |      - is_loading (boolean; optional):\n",
      " |          Determines if the component is loading or not.\n",
      " |  \n",
      " |      - prop_name (string; optional):\n",
      " |          Holds which property is loading.\n",
      " |  \n",
      " |  - n_clicks (number; default 0):\n",
      " |      An integer that represents the number of times that this element\n",
      " |      has been clicked on.\n",
      " |  \n",
      " |  - n_clicks_timestamp (number; default -1):\n",
      " |      An integer that represents the time (in ms since 1970) at which\n",
      " |      n_clicks changed. This can be used to tell which button was\n",
      " |      changed most recently.\n",
      " |  \n",
      " |  - role (string; optional):\n",
      " |      Defines an explicit role for an element for use by assistive\n",
      " |      technologies.\n",
      " |  \n",
      " |  - spellCheck (string; optional):\n",
      " |      Indicates whether spell checking is allowed for the element.\n",
      " |  \n",
      " |  - style (dict; optional):\n",
      " |      Defines CSS styles which will override styles previously set.\n",
      " |  \n",
      " |  - tabIndex (string; optional):\n",
      " |      Overrides the browser's default tab order and follows the one\n",
      " |      specified instead.\n",
      " |  \n",
      " |  - title (string; optional):\n",
      " |      Text to be displayed in a tooltip when hovering over the element.\n",
      " |  \n",
      " |  Method resolution order:\n",
      " |      Div\n",
      " |      dash.development.base_component.Component\n",
      " |      builtins.object\n",
      " |  \n",
      " |  Methods defined here:\n",
      " |  \n",
      " |  __init__ = wrapper(self, children=None, id=undefined, n_clicks=undefined, n_clicks_timestamp=undefined, disable_n_clicks=undefined, key=undefined, accessKey=undefined, className=undefined, contentEditable=undefined, dir=undefined, draggable=undefined, hidden=undefined, lang=undefined, role=undefined, spellCheck=undefined, style=undefined, tabIndex=undefined, title=undefined, loading_state=undefined, **kwargs)\n",
      " |  \n",
      " |  ----------------------------------------------------------------------\n",
      " |  Data and other attributes defined here:\n",
      " |  \n",
      " |  __abstractmethods__ = frozenset()\n",
      " |  \n",
      " |  ----------------------------------------------------------------------\n",
      " |  Methods inherited from dash.development.base_component.Component:\n",
      " |  \n",
      " |  __delitem__(self, id)\n",
      " |      Delete items by ID in the tree of children.\n",
      " |  \n",
      " |  __getitem__(self, id)\n",
      " |      Recursively find the element with the given ID through the tree of\n",
      " |      children.\n",
      " |  \n",
      " |  __iter__(self)\n",
      " |      Yield IDs in the tree of children.\n",
      " |  \n",
      " |  __len__(self)\n",
      " |      Return the number of items in the tree.\n",
      " |  \n",
      " |  __repr__(self)\n",
      " |      Return repr(self).\n",
      " |  \n",
      " |  __setitem__(self, id, item)\n",
      " |      Set an element by its ID.\n",
      " |  \n",
      " |  to_plotly_json(self)\n",
      " |  \n",
      " |  ----------------------------------------------------------------------\n",
      " |  Data descriptors inherited from dash.development.base_component.Component:\n",
      " |  \n",
      " |  __dict__\n",
      " |      dictionary for instance variables (if defined)\n",
      " |  \n",
      " |  __weakref__\n",
      " |      list of weak references to the object (if defined)\n",
      " |  \n",
      " |  ----------------------------------------------------------------------\n",
      " |  Data and other attributes inherited from dash.development.base_component.Component:\n",
      " |  \n",
      " |  REQUIRED = required\n",
      " |  \n",
      " |  UNDEFINED = undefined\n",
      "\n"
     ]
    }
   ],
   "source": [
    "help(dash.html.Div)\n"
   ]
  },
  {
   "cell_type": "code",
   "execution_count": null,
   "id": "a561c44d",
   "metadata": {},
   "outputs": [],
   "source": [
    "merged_df = pd.merge(runs1, runs2, on='match_id', suffixes=('_df1', '_df2'), how='inner')\n",
    "print(merged_df.shape)\n",
    "merged_df.head()"
   ]
  },
  {
   "cell_type": "code",
   "execution_count": null,
   "id": "91364568",
   "metadata": {},
   "outputs": [],
   "source": [
    "merged_df['total_runs_df1'][0]"
   ]
  },
  {
   "cell_type": "code",
   "execution_count": null,
   "id": "bfdac2a8",
   "metadata": {},
   "outputs": [],
   "source": [
    "dfResult = pd.read_csv(\"csvFiles/result.csv\", index_col=False)"
   ]
  },
  {
   "cell_type": "code",
   "execution_count": null,
   "id": "f0979a5b",
   "metadata": {},
   "outputs": [],
   "source": [
    "dfResult"
   ]
  },
  {
   "cell_type": "code",
   "execution_count": null,
   "id": "928a957b",
   "metadata": {},
   "outputs": [],
   "source": [
    "team_name = \"Chennai Super Kings\"\n",
    "tmp = dfResult.query(f\"Team == '{team_name}'\").reset_index()\n",
    "print(list(tmp['Qualify']))"
   ]
  },
  {
   "cell_type": "code",
   "execution_count": null,
   "id": "08136821",
   "metadata": {},
   "outputs": [],
   "source": []
  },
  {
   "cell_type": "code",
   "execution_count": null,
   "id": "a996eb74",
   "metadata": {},
   "outputs": [],
   "source": [
    "max_index = data1['batsman_runs'].idxmax()"
   ]
  },
  {
   "cell_type": "code",
   "execution_count": null,
   "id": "f1d9cc46",
   "metadata": {},
   "outputs": [],
   "source": [
    "max_row = data1.loc[max_index]\n",
    "print(max_row['batsman'])\n",
    "print(max_row['batsman_runs'])"
   ]
  },
  {
   "cell_type": "code",
   "execution_count": null,
   "id": "e5fb2e4c",
   "metadata": {},
   "outputs": [],
   "source": []
  },
  {
   "cell_type": "code",
   "execution_count": null,
   "id": "6c1fe19c",
   "metadata": {},
   "outputs": [],
   "source": [
    "data1[data1['batsman'] == 'S Dhawan']"
   ]
  },
  {
   "cell_type": "code",
   "execution_count": null,
   "id": "c197c7a4",
   "metadata": {},
   "outputs": [],
   "source": [
    "data.shape"
   ]
  },
  {
   "cell_type": "code",
   "execution_count": null,
   "id": "fcb3b406",
   "metadata": {},
   "outputs": [],
   "source": [
    "condition = \"not (dismissal_kind == 'retired_hurt' or dismissal_kind == 'run out' or dismissal_kind.isna())\"\n",
    "dataBowler = data.query(condition)"
   ]
  },
  {
   "cell_type": "code",
   "execution_count": null,
   "id": "3821b05b",
   "metadata": {},
   "outputs": [],
   "source": [
    "dataBowler"
   ]
  },
  {
   "cell_type": "code",
   "execution_count": null,
   "id": "79069afd",
   "metadata": {},
   "outputs": [],
   "source": [
    "dataBowler.loc[:, 'Wicket'] = 1\n",
    "dataBowler.head()"
   ]
  },
  {
   "cell_type": "code",
   "execution_count": null,
   "id": "5dc6d877",
   "metadata": {},
   "outputs": [],
   "source": [
    "data_wicket_bowler = dataBowler.groupby('bowler')['Wicket'].sum()\n",
    "data_wicket_bowler.head()"
   ]
  },
  {
   "cell_type": "code",
   "execution_count": null,
   "id": "39c73fee",
   "metadata": {},
   "outputs": [],
   "source": [
    "data_wicket_bowler.reset_index()"
   ]
  },
  {
   "cell_type": "code",
   "execution_count": null,
   "id": "55449852",
   "metadata": {},
   "outputs": [],
   "source": []
  },
  {
   "cell_type": "code",
   "execution_count": null,
   "id": "1e79e85f",
   "metadata": {},
   "outputs": [],
   "source": []
  },
  {
   "cell_type": "code",
   "execution_count": null,
   "id": "d58b96c2",
   "metadata": {},
   "outputs": [],
   "source": []
  },
  {
   "cell_type": "code",
   "execution_count": null,
   "id": "512ba35e",
   "metadata": {},
   "outputs": [],
   "source": [
    "tmp = 2017\n",
    "yearList1 = []\n",
    "for i in range(df.shape[0]):\n",
    "    if df.iloc[i]['season'] != tmp:\n",
    "        tmp = df.iloc[i]['season']\n",
    "        yearList1.append(tmp)\n",
    "        \n",
    "print(yearList1)"
   ]
  },
  {
   "cell_type": "code",
   "execution_count": null,
   "id": "3413db68",
   "metadata": {},
   "outputs": [],
   "source": [
    "temp = data.iloc[3]"
   ]
  },
  {
   "cell_type": "code",
   "execution_count": null,
   "id": "d6e09b5f",
   "metadata": {},
   "outputs": [],
   "source": [
    "temp1 = data.iloc[4]"
   ]
  },
  {
   "cell_type": "code",
   "execution_count": null,
   "id": "8a981ac4",
   "metadata": {},
   "outputs": [],
   "source": []
  },
  {
   "cell_type": "code",
   "execution_count": null,
   "id": "21998851",
   "metadata": {},
   "outputs": [],
   "source": [
    "df_temp = pd.DataFrame(dict(temp), index=[0])"
   ]
  },
  {
   "cell_type": "code",
   "execution_count": null,
   "id": "795630c0",
   "metadata": {},
   "outputs": [],
   "source": [
    "print(df_temp)"
   ]
  },
  {
   "cell_type": "code",
   "execution_count": null,
   "id": "87756cc3",
   "metadata": {},
   "outputs": [],
   "source": [
    "df_temp.loc[len(df_temp)] = dict(temp1)"
   ]
  },
  {
   "cell_type": "code",
   "execution_count": null,
   "id": "a08bc956",
   "metadata": {},
   "outputs": [],
   "source": [
    "data.loc[data['match_id'] == 60]"
   ]
  },
  {
   "cell_type": "code",
   "execution_count": null,
   "id": "cd1f7002",
   "metadata": {},
   "outputs": [],
   "source": [
    "data.loc[data['match_id'] < 60]"
   ]
  },
  {
   "cell_type": "code",
   "execution_count": null,
   "id": "0d3ecda6",
   "metadata": {},
   "outputs": [],
   "source": [
    "init_tmp = 1\n",
    "for tmp in yearList:\n",
    "    df_temp = data[data['match_id'] < tmp]\n",
    "    print(f'first: {df_temp.shape}, init_tmp: {init_tmp}')\n",
    "    df_temp = df_temp[df_temp['match_id'] >= init_tmp]\n",
    "    print(f'second: {df_temp.shape}')\n",
    "    init_tmp = tmp\n",
    "    df_temp.to_csv(str(tmp)+\".csv\")\n",
    "\n",
    "            "
   ]
  },
  {
   "cell_type": "code",
   "execution_count": null,
   "id": "048bc7cc",
   "metadata": {},
   "outputs": [],
   "source": [
    "yearList.append(637)"
   ]
  },
  {
   "cell_type": "code",
   "execution_count": null,
   "id": "c3306610",
   "metadata": {},
   "outputs": [],
   "source": []
  }
 ],
 "metadata": {
  "kernelspec": {
   "display_name": "Python 3 (ipykernel)",
   "language": "python",
   "name": "python3"
  },
  "language_info": {
   "codemirror_mode": {
    "name": "ipython",
    "version": 3
   },
   "file_extension": ".py",
   "mimetype": "text/x-python",
   "name": "python",
   "nbconvert_exporter": "python",
   "pygments_lexer": "ipython3",
   "version": "3.10.12"
  }
 },
 "nbformat": 4,
 "nbformat_minor": 5
}
